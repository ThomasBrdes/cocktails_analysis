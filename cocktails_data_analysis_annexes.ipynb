{
 "cells": [
  {
   "cell_type": "markdown",
   "id": "5c60f0bd",
   "metadata": {},
   "source": [
    "# Data Analysis - Cocktails [APPENDIX]\n",
    "\n",
    "Thomas BORDES, Damien WILLETT."
   ]
  },
  {
   "cell_type": "markdown",
   "id": "c6bde0d7",
   "metadata": {},
   "source": [
    "## Appendix: 'cocktails' dataset"
   ]
  },
  {
   "cell_type": "code",
   "execution_count": null,
   "id": "5957396e",
   "metadata": {},
   "outputs": [
    {
     "ename": "",
     "evalue": "",
     "output_type": "error",
     "traceback": [
      "\u001b[1;31mRunning cells with 'cocktails_env (Python 3.9.19)' requires the ipykernel package.\n",
      "\u001b[1;31mRun the following command to install 'ipykernel' into the Python environment. \n",
      "\u001b[1;31mCommand: 'conda install -n cocktails_env ipykernel --update-deps --force-reinstall'"
     ]
    }
   ],
   "source": [
    "import matplotlib.pyplot as plt\n",
    "import matplotlib.ticker as plticker\n",
    "import pandas as pd\n",
    "import seaborn as sns\n",
    "sns.set_palette(sns.color_palette('hls'))\n",
    "import numpy as np\n",
    "from sklearn.decomposition import PCA\n",
    "from sklearn.manifold import MDS\n",
    "from scipy.stats import norm\n",
    "from scipy import linalg\n",
    "from sklearn.preprocessing import StandardScaler\n",
    "from sklearn.discriminant_analysis import LinearDiscriminantAnalysis\n",
    "from sklearn.discriminant_analysis import QuadraticDiscriminantAnalysis\n",
    "from sklearn.naive_bayes import GaussianNB\n",
    "from sklearn.model_selection import cross_val_score\n",
    "from sklearn.base import BaseEstimator"
   ]
  },
  {
   "cell_type": "code",
   "execution_count": 2,
   "id": "86ede709",
   "metadata": {},
   "outputs": [],
   "source": [
    "cocktails = pd.read_csv('https://raw.githubusercontent.com/rfordatascience/tidytuesday/master/data/2020/2020-05-26/cocktails.csv')"
   ]
  },
  {
   "cell_type": "code",
   "execution_count": null,
   "id": "1f3fb548",
   "metadata": {},
   "outputs": [],
   "source": [
    "cocktails.shape"
   ]
  },
  {
   "cell_type": "code",
   "execution_count": null,
   "id": "52297e6c",
   "metadata": {},
   "outputs": [],
   "source": [
    "len(np.unique(cocktails['ingredient']))"
   ]
  },
  {
   "cell_type": "markdown",
   "id": "db3faad8",
   "metadata": {},
   "source": [
    "### Data cleaning"
   ]
  },
  {
   "cell_type": "markdown",
   "id": "6d2bdd58",
   "metadata": {},
   "source": [
    "Columns that do not provide interesting information are removed."
   ]
  },
  {
   "cell_type": "code",
   "execution_count": 5,
   "id": "afd5f207",
   "metadata": {},
   "outputs": [],
   "source": [
    "cocktails.drop(columns=['date_modified', 'drink_thumb', 'video','iba'], inplace=True)"
   ]
  },
  {
   "cell_type": "markdown",
   "id": "e3a7a9d3",
   "metadata": {},
   "source": [
    "We transform the columns into lowercase characters."
   ]
  },
  {
   "cell_type": "code",
   "execution_count": 6,
   "id": "ec159c77",
   "metadata": {},
   "outputs": [],
   "source": [
    "cocktails['alcoholic'] = cocktails['alcoholic'].str.lower()\n",
    "cocktails['category'] = cocktails['category'].str.lower()\n",
    "cocktails['glass'] = cocktails['glass'].str.lower()"
   ]
  },
  {
   "cell_type": "markdown",
   "id": "c91bdfb6",
   "metadata": {},
   "source": [
    "Some measurements are corrected (in particular input errors)."
   ]
  },
  {
   "cell_type": "code",
   "execution_count": 7,
   "id": "610bc545",
   "metadata": {},
   "outputs": [],
   "source": [
    "cocktails.loc[cocktails['measure'] == '1-2 dash', 'measure'] = '1.5 dashes'\n",
    "cocktails.loc[cocktails['measure'] == '2 Dashes', 'measure'] = '2 dashes'\n",
    "\n",
    "cocktails.loc[cocktails['measure'] == '1/2 Shot', 'measure'] = '1/2 shot'\n",
    "cocktails.loc[cocktails['measure'] == '1/8 Shot', 'measure'] = '1/8 shot'\n",
    "cocktails.loc[cocktails['measure'] == '1/4 Shot', 'measure'] = '1/4 shot'\n",
    "cocktails.loc[cocktails['measure'] == '1/2 shot Bacardi', 'measure'] = '1/2 shot'\n",
    "cocktails.loc[cocktails['measure'] == '1 shot Bacardi', 'measure'] = '1 shot'\n",
    "cocktails.loc[cocktails['measure'] == '1 shot Jamaican', 'measure'] = '1 shot'\n",
    "cocktails.loc[cocktails['measure'] == '1 Shot', 'measure'] = '1 shot'\n",
    "cocktails.loc[cocktails['measure'] == '1-2 Shot', 'measure'] = '2 shot'\n",
    "cocktails.loc[cocktails['measure'] == '1-2 shot', 'measure'] = '2 shot'\n",
    "cocktails.loc[cocktails['measure'] == '2 shot', 'measure'] = '2 shots'\n",
    "\n",
    "cocktails.loc[cocktails['measure'] == 'dash', 'measure'] = '1 dash'\n",
    "cocktails.loc[cocktails['measure'] == '1 .75 oz', 'measure'] = '1.75 oz'\n",
    "cocktails.loc[cocktails['measure'] == '6 Fresh', 'measure'] = '6'\n",
    "cocktails.loc[cocktails['measure'] == 'splash', 'measure'] = '1 splash'"
   ]
  },
  {
   "cell_type": "markdown",
   "id": "6aa9c137",
   "metadata": {},
   "source": [
    "Some units of measurement are converted to oz."
   ]
  },
  {
   "cell_type": "code",
   "execution_count": 8,
   "id": "c305e8d1",
   "metadata": {},
   "outputs": [],
   "source": [
    "cocktails.loc[cocktails['measure'] == '1 dash', 'measure'] = '.02 oz'\n",
    "cocktails.loc[cocktails['measure'] == '1.5 dashes', 'measure'] = '.025 oz'\n",
    "cocktails.loc[cocktails['measure'] == '2 dashes', 'measure'] = '.04 oz'\n",
    "cocktails.loc[cocktails['measure'] == '3 dashes', 'measure'] = '.06 oz'\n",
    "cocktails.loc[cocktails['measure'] == '4 dashes', 'measure'] = '.08 oz'\n",
    "\n",
    "cocktails.loc[cocktails['measure'] == '1 tbsp', 'measure'] = '.5 oz'\n",
    "cocktails.loc[cocktails['measure'] == '2 tbsp', 'measure'] = '1 oz'\n",
    "\n",
    "cocktails.loc[cocktails['measure'] == '1/8 shot', 'measure'] = '0.1875 oz'\n",
    "cocktails.loc[cocktails['measure'] == '1/4 shot', 'measure'] = '0.375 oz'\n",
    "cocktails.loc[cocktails['measure'] == '1/3 shot', 'measure'] = '0.5 oz'\n",
    "cocktails.loc[cocktails['measure'] == '1/2 shot', 'measure'] = '0.75 oz'\n",
    "cocktails.loc[cocktails['measure'] == '3/4 shot', 'measure'] = '1.125 oz'\n",
    "cocktails.loc[cocktails['measure'] == '1 shot', 'measure'] = '1.5 oz'\n",
    "cocktails.loc[cocktails['measure'] == '1 1/2 shot', 'measure'] = '2.25 oz'\n",
    "cocktails.loc[cocktails['measure'] == '1 3/4 shot', 'measure'] = '2.625 oz'\n",
    "cocktails.loc[cocktails['measure'] == '2 shots', 'measure'] = '3 oz'\n",
    "cocktails.loc[cocktails['measure'] == '2 1/2 shots', 'measure'] = '3.75 oz'\n",
    "cocktails.loc[cocktails['measure'] == '3 shots', 'measure'] = '4.5 oz'\n",
    "cocktails.loc[cocktails['measure'] == '4 shots', 'measure'] = '6 oz'\n",
    "cocktails.loc[cocktails['measure'] == '5 shots', 'measure'] = '7.5 oz'\n",
    "\n",
    "cocktails.loc[cocktails['measure'] == '1/4 cl', 'measure'] = '0.01 oz'\n",
    "cocktails.loc[cocktails['measure'] == '1 cl', 'measure'] = '0.33 oz'\n",
    "cocktails.loc[cocktails['measure'] == '1 cl', 'measure'] = '0.5 oz'\n",
    "cocktails.loc[cocktails['measure'] == '2 cl', 'measure'] = '0.67 oz'\n",
    "cocktails.loc[cocktails['measure'] == '3 cl', 'measure'] = '1 oz'\n",
    "cocktails.loc[cocktails['measure'] == '4 cl', 'measure'] = '1.35 oz'\n",
    "cocktails.loc[cocktails['measure'] == '5 cl', 'measure'] = '1.69 oz'\n",
    "cocktails.loc[cocktails['measure'] == '6 cl', 'measure'] = '2 oz'\n",
    "cocktails.loc[cocktails['measure'] == '7 cl', 'measure'] = '2.36 oz'\n",
    "cocktails.loc[cocktails['measure'] == '8 cl', 'measure'] = '2.7 oz'\n",
    "cocktails.loc[cocktails['measure'] == '10 cl', 'measure'] = '3.36 oz'\n",
    "cocktails.loc[cocktails['measure'] == '15 cl', 'measure'] = '5 oz'\n",
    "cocktails.loc[cocktails['measure'] == '16 cl', 'measure'] = '5.4 oz'"
   ]
  },
  {
   "cell_type": "markdown",
   "id": "f21ae75d",
   "metadata": {},
   "source": [
    "We replace the fractional writing of measurements with decimal writing."
   ]
  },
  {
   "cell_type": "code",
   "execution_count": 9,
   "id": "2fb79fe6",
   "metadata": {},
   "outputs": [],
   "source": [
    "cocktails.loc[cocktails['measure'] == '1/4 oz', 'measure'] = '0.25 oz'\n",
    "cocktails.loc[cocktails['measure'] == '1/3 oz', 'measure'] = '0.33 oz'\n",
    "cocktails.loc[cocktails['measure'] == '1/2 oz', 'measure'] = '0.5 oz'\n",
    "cocktails.loc[cocktails['measure'] == '3/4 oz', 'measure'] = '0.75 oz'\n",
    "cocktails.loc[cocktails['measure'] == '1 1/2 oz', 'measure'] = '1.5 oz'\n",
    "cocktails.loc[cocktails['measure'] == '1 1/4 oz', 'measure'] = '1.25 oz'\n",
    "cocktails.loc[cocktails['measure'] == '2 1/2 oz', 'measure'] = '2.5 oz'"
   ]
  },
  {
   "cell_type": "markdown",
   "id": "43e02394",
   "metadata": {},
   "source": [
    "We create a new column in which we extract the numerical value of the measurement."
   ]
  },
  {
   "cell_type": "code",
   "execution_count": 10,
   "id": "7d388577",
   "metadata": {},
   "outputs": [],
   "source": [
    "cocktails['measure_number'] = cocktails['measure'].str.extract('(\\d*\\.\\d+|\\d+)', expand=False).astype(float)"
   ]
  },
  {
   "cell_type": "code",
   "execution_count": null,
   "id": "efff9aa5",
   "metadata": {},
   "outputs": [],
   "source": [
    "cocktails.head()"
   ]
  },
  {
   "cell_type": "code",
   "execution_count": null,
   "id": "e3b16e9b",
   "metadata": {},
   "outputs": [],
   "source": [
    "cocktails.shape"
   ]
  },
  {
   "cell_type": "code",
   "execution_count": null,
   "id": "ec356b39",
   "metadata": {},
   "outputs": [],
   "source": [
    "len(np.unique(cocktails['ingredient']))"
   ]
  },
  {
   "cell_type": "markdown",
   "id": "0d41e9ce",
   "metadata": {},
   "source": [
    "### Exploratory analysis"
   ]
  },
  {
   "cell_type": "code",
   "execution_count": null,
   "id": "e02dc6a1",
   "metadata": {},
   "outputs": [],
   "source": [
    "len(np.unique(cocktails['ingredient']))"
   ]
  },
  {
   "cell_type": "markdown",
   "id": "f9debb3b",
   "metadata": {},
   "source": [
    "We plot the histograms of the types of cocktails (with, without or possibility of alcohol), the glasses used for the cocktails, the categories of cocktails."
   ]
  },
  {
   "cell_type": "code",
   "execution_count": 15,
   "id": "250c9e6c",
   "metadata": {},
   "outputs": [],
   "source": [
    "cocktails_sorted_type = cocktails.groupby(['id_drink', 'alcoholic'], as_index=False).count()\n",
    "cocktails_sorted_type.sort_values(by='alcoholic', inplace=True)\n",
    "\n",
    "cocktails_sorted_verre = cocktails.groupby(['id_drink', 'glass'], as_index=False).count()\n",
    "cocktails_sorted_verre.sort_values(by='glass', inplace=True)\n",
    "\n",
    "cocktails_sorted_categ = cocktails.groupby(['id_drink', 'category'], as_index=False).count()\n",
    "cocktails_sorted_categ.sort_values(by='category', inplace=True)"
   ]
  },
  {
   "cell_type": "code",
   "execution_count": null,
   "id": "525175fa",
   "metadata": {},
   "outputs": [],
   "source": [
    "cocktails_sorted_verre.head()"
   ]
  },
  {
   "cell_type": "code",
   "execution_count": null,
   "id": "aa59bd72",
   "metadata": {},
   "outputs": [],
   "source": [
    "plt.figure(figsize=(10, 7))\n",
    "plt.gcf().subplots_adjust(wspace=0.6, hspace=0.4)\n",
    "\n",
    "plt.subplot(222)\n",
    "fig1 = sns.histplot(y=cocktails_sorted_type['alcoholic'])\n",
    "fig1.set(title=\"Types of cocktails\", ylabel=\"Alcohol level\", xlabel=\"Frequency\", xlim=[0,500])\n",
    "for p in fig1.patches:\n",
    "    fig1.annotate(p.get_width(), (p.get_width()+2.8, p.get_y()+0.6))\n",
    "\n",
    "plt.subplot(121)\n",
    "fig2 = sns.histplot(y=cocktails_sorted_verre['glass'])\n",
    "fig2.set(title=\"Glasses used for cocktails\", ylabel=\"Glass\", xlabel=\"Frequency\", xlim=[0,130])\n",
    "for p in fig2.patches:\n",
    "    fig2.annotate(p.get_width(), (p.get_width()+0.8, p.get_y()+0.8))\n",
    "\n",
    "plt.subplot(224)\n",
    "fig3 = sns.histplot(y=cocktails_sorted_categ['category'])\n",
    "fig3.set(title=\"Cocktail categories\", ylabel=\"Category\", xlabel=\"Frequency\", xlim=[0,300])\n",
    "for p in fig3.patches:\n",
    "    fig3.annotate(p.get_width(), (p.get_width()+1.6, p.get_y()+0.8))\n",
    "\n",
    "plt.savefig('imgs/exploratory_analysis_cocktails.pdf', bbox_inches='tight')\n",
    "plt.show()\n",
    "plt.close()"
   ]
  },
  {
   "cell_type": "markdown",
   "id": "7a3b076e",
   "metadata": {},
   "source": [
    "We plot the histogram of the number of ingredients per cocktail."
   ]
  },
  {
   "cell_type": "code",
   "execution_count": null,
   "id": "a2eaca9d",
   "metadata": {},
   "outputs": [],
   "source": [
    "A = cocktails.groupby(['row_id'], as_index=False)['ingredient_number'].max()\n",
    "\n",
    "cocktails_alcohol = cocktails[cocktails['alcoholic'].isin([\"alcoholic\"])]\n",
    "cocktails_wt_alcohol = cocktails[cocktails['alcoholic'].isin([\"non alcoholic\"])]\n",
    "\n",
    "plt.figure(figsize=(10,5))\n",
    "\n",
    "plt.subplot(1, 2, 1)\n",
    "fig1 = sns.countplot(data=cocktails_alcohol.groupby(['row_id'], as_index=False)['ingredient_number'].max(), x='ingredient_number')\n",
    "fig1.set(title=\"Alcoholic cocktails\", xlabel=\"Number of ingredients\", ylabel=\"Number of cocktails\")\n",
    "fig1.xaxis.set_major_locator(plticker.MultipleLocator(base=1))\n",
    "fig1.yaxis.set_major_locator(plticker.MultipleLocator(base=50))\n",
    "for p in fig1.patches:\n",
    "    fig1.annotate(p.get_height(), (p.get_x()+p.get_width()/2., p.get_height()+4), ha='center', va='center')\n",
    "\n",
    "plt.subplot(1, 2, 2)\n",
    "fig2 = sns.countplot(data=cocktails_wt_alcohol.groupby(['row_id'], as_index=False)['ingredient_number'].max(), x='ingredient_number')\n",
    "fig2.set(title=\"Non-alcoholic cocktails\", xlabel=\"Number of ingredients\", ylabel=\"Number of cocktails\")\n",
    "fig2.xaxis.set_major_locator(plticker.MultipleLocator(base=1))\n",
    "fig2.yaxis.set_major_locator(plticker.MultipleLocator(base=50))\n",
    "for p in fig2.patches:\n",
    "    fig2.annotate(p.get_height(), (p.get_x()+p.get_width()/2., p.get_height()+0.35), ha='center', va='center')\n",
    "\n",
    "plt.savefig('imgs/nb_ingredients_cocktails_alcohol_and_non_alcohol.pdf', bbox_inches='tight')\n",
    "plt.show()\n",
    "plt.close()"
   ]
  },
  {
   "cell_type": "markdown",
   "id": "a73d8e2b",
   "metadata": {},
   "source": [
    "We look at the 3 most important ingredients in common between cocktails with and without alcohol."
   ]
  },
  {
   "cell_type": "code",
   "execution_count": null,
   "id": "abdabfd1",
   "metadata": {},
   "outputs": [],
   "source": [
    "freq_alcohol = cocktails_alcohol['ingredient'].value_counts()\n",
    "freq_wt_alcohol = cocktails_wt_alcohol['ingredient'].value_counts()\n",
    "\n",
    "def common_member(a, b): \n",
    "    a_set = set(a) \n",
    "    b_set = set(b) \n",
    "  \n",
    "    if (a_set & b_set): \n",
    "        print(a_set & b_set) \n",
    "    else: \n",
    "        print(\"No common elements\")  \n",
    "\n",
    "#On prend les 10 premirs ingrédients les plus utilisées de chaque et on calcule les éléments commun\n",
    "commun = common_member(freq_alcohol[0:10].index.tolist(),freq_wt_alcohol[0:10].index.tolist())"
   ]
  }
 ],
 "metadata": {
  "kernelspec": {
   "display_name": "Python 3 (ipykernel)",
   "language": "python",
   "name": "python3"
  },
  "language_info": {
   "codemirror_mode": {
    "name": "ipython",
    "version": 3
   },
   "file_extension": ".py",
   "mimetype": "text/x-python",
   "name": "python",
   "nbconvert_exporter": "python",
   "pygments_lexer": "ipython3",
   "version": "3.9.19"
  }
 },
 "nbformat": 4,
 "nbformat_minor": 5
}
